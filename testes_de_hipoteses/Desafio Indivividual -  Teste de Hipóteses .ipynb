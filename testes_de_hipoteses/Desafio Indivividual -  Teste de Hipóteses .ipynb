{
 "cells": [
  {
   "cell_type": "markdown",
   "id": "96944f09",
   "metadata": {},
   "source": [
    "<h1 style=\"display: flex; align-items: center;\">\n",
    "  WoMakersCode\n",
    "  <img src=\"https://cdn-images-1.medium.com/v2/resize:fit:1200/1*B8rGvo7fJ7qL4uFJ_II_-w.png\" alt=\"Python logo\" width=\"30\" style=\"margin-left: 10px;\">\n",
    "</h1>"
   ]
  },
  {
   "cell_type": "markdown",
   "id": "20a347ab",
   "metadata": {},
   "source": [
    "<h1> 🦋Bootcamp Data Analytics🦋</h1>"
   ]
  },
  {
   "cell_type": "markdown",
   "id": "53444f27",
   "metadata": {},
   "source": [
    "## <font color = red>**Desafio Individual - Teste de Hipótese**"
   ]
  },
  {
   "cell_type": "code",
   "execution_count": 2,
   "id": "96c661d1",
   "metadata": {},
   "outputs": [],
   "source": [
    "# Importando os bibliotecas/pacotes\n",
    "import pandas as pd\n",
    "import numpy as np\n",
    "import matplotlib.pyplot as plt\n",
    "import seaborn as sns\n",
    "from scipy import stats\n",
    "from scipy.stats import kstest, probplot\n",
    "from scipy.stats import norm, binom, ttest_ind, chi2_contingency, shapiro\n",
    "from scipy.stats import f_oneway\n",
    "\n",
    "import warnings\n",
    "warnings.filterwarnings('ignore')\n",
    "sns.set(style = \"whitegrid\")\n",
    "%matplotlib inline"
   ]
  },
  {
   "cell_type": "code",
   "execution_count": 3,
   "id": "422f6621",
   "metadata": {},
   "outputs": [
    {
     "data": {
      "text/html": [
       "<div>\n",
       "<style scoped>\n",
       "    .dataframe tbody tr th:only-of-type {\n",
       "        vertical-align: middle;\n",
       "    }\n",
       "\n",
       "    .dataframe tbody tr th {\n",
       "        vertical-align: top;\n",
       "    }\n",
       "\n",
       "    .dataframe thead th {\n",
       "        text-align: right;\n",
       "    }\n",
       "</style>\n",
       "<table border=\"1\" class=\"dataframe\">\n",
       "  <thead>\n",
       "    <tr style=\"text-align: right;\">\n",
       "      <th></th>\n",
       "      <th>Visitante_ID</th>\n",
       "      <th>Versão_Página</th>\n",
       "      <th>Visualizações</th>\n",
       "      <th>Conversões</th>\n",
       "    </tr>\n",
       "  </thead>\n",
       "  <tbody>\n",
       "    <tr>\n",
       "      <th>0</th>\n",
       "      <td>1</td>\n",
       "      <td>A</td>\n",
       "      <td>167</td>\n",
       "      <td>1</td>\n",
       "    </tr>\n",
       "    <tr>\n",
       "      <th>1</th>\n",
       "      <td>2</td>\n",
       "      <td>A</td>\n",
       "      <td>160</td>\n",
       "      <td>0</td>\n",
       "    </tr>\n",
       "    <tr>\n",
       "      <th>2</th>\n",
       "      <td>3</td>\n",
       "      <td>A</td>\n",
       "      <td>170</td>\n",
       "      <td>0</td>\n",
       "    </tr>\n",
       "    <tr>\n",
       "      <th>3</th>\n",
       "      <td>4</td>\n",
       "      <td>A</td>\n",
       "      <td>161</td>\n",
       "      <td>1</td>\n",
       "    </tr>\n",
       "    <tr>\n",
       "      <th>4</th>\n",
       "      <td>5</td>\n",
       "      <td>A</td>\n",
       "      <td>104</td>\n",
       "      <td>0</td>\n",
       "    </tr>\n",
       "  </tbody>\n",
       "</table>\n",
       "</div>"
      ],
      "text/plain": [
       "   Visitante_ID Versão_Página  Visualizações  Conversões\n",
       "0             1             A            167           1\n",
       "1             2             A            160           0\n",
       "2             3             A            170           0\n",
       "3             4             A            161           1\n",
       "4             5             A            104           0"
      ]
     },
     "execution_count": 3,
     "metadata": {},
     "output_type": "execute_result"
    }
   ],
   "source": [
    "df = pd.read_csv(\"experimento_teste_ab.csv\", sep = \",\")\n",
    "df.head()"
   ]
  },
  {
   "cell_type": "markdown",
   "id": "6912f3c3",
   "metadata": {},
   "source": [
    "### 1.\tQual dos cenários tem a maior taxa de conversão?"
   ]
  },
  {
   "cell_type": "code",
   "execution_count": 4,
   "id": "f4443517",
   "metadata": {},
   "outputs": [
    {
     "name": "stdout",
     "output_type": "stream",
     "text": [
      "Taxa de conversão para o cenário A: 10.5 %\n",
      "Taxa de conversão para o cenário B: 12.5 %\n",
      "O cenário B tem a maior taxa de conversão.\n"
     ]
    }
   ],
   "source": [
    "# Filtrar os dados para o cenário A e B\n",
    "df_cenario_A = df[df['Versão_Página'] == 'A']\n",
    "df_cenario_B = df[df['Versão_Página'] == 'B']\n",
    "\n",
    "# Calcular o número de conversões e visualizações para cada cenário\n",
    "conversoes_A = df_cenario_A['Conversões'].sum()\n",
    "visualizacoes_A = len(df_cenario_A)\n",
    "\n",
    "conversoes_B = df_cenario_B['Conversões'].sum()\n",
    "visualizacoes_B = len(df_cenario_B)\n",
    "\n",
    "# Calcular a taxa de conversão para cada cenário\n",
    "taxa_conversao_A = (conversoes_A / visualizacoes_A) * 100 \n",
    "taxa_conversao_B = (conversoes_B / visualizacoes_B) * 100  \n",
    "\n",
    "# Exibir a taxa de conversão para cada cenário\n",
    "print(\"Taxa de conversão para o cenário A:\", taxa_conversao_A, \"%\")\n",
    "print(\"Taxa de conversão para o cenário B:\", taxa_conversao_B, \"%\")\n",
    "\n",
    "# Determinar qual cenário tem a maior taxa de conversão\n",
    "if taxa_conversao_A > taxa_conversao_B:\n",
    "    print(\"O cenário A tem a maior taxa de conversão.\")\n",
    "elif taxa_conversao_B > taxa_conversao_A:\n",
    "    print(\"O cenário B tem a maior taxa de conversão.\")\n",
    "else:\n",
    "    print(\"Os cenários A e B têm a mesma taxa de conversão.\")"
   ]
  },
  {
   "cell_type": "markdown",
   "id": "76daf7c2",
   "metadata": {},
   "source": [
    "### 2.\tCalcule qual o tamanho da amostra necessária para o desenvolvimento de um teste A/B, seguindo os seguintes critérios:\n",
    "\n",
    "a.\tO cenário A, da base, como o inicial, que funciona hoje.\n",
    "\n",
    "b.\tConsidere 95% de confiança de que o efeito na conversão não foi aleatório com um nível de significância de 5% (alpha = 0,05). \n",
    "\n",
    "c.\tTambém considere 80% de certeza conseguir capturar o efeito da nova abordagem. \n",
    "\n",
    "d.\tO aumento para 10% de conversão."
   ]
  },
  {
   "cell_type": "code",
   "execution_count": 5,
   "id": "fdaed063",
   "metadata": {},
   "outputs": [
    {
     "name": "stdout",
     "output_type": "stream",
     "text": [
      "Tamanho da amostra necessário em cada grupo: 273\n"
     ]
    }
   ],
   "source": [
    "# Parâmetros\n",
    "alpha = 0.05\n",
    "confianca = 1 - alpha\n",
    "potencia = 0.8\n",
    "aumento_conversao = 0.10  # 10%\n",
    "\n",
    "# Taxa de conversão no cenário A (cenário atual)\n",
    "p1 = taxa_conversao_A / 100\n",
    "\n",
    "# Taxa de conversão esperada no cenário B (com o aumento)\n",
    "p2 = p1 + aumento_conversao\n",
    "\n",
    "# Valor crítico da distribuição normal padrão para um nível de significância de alpha/2\n",
    "Z_alpha_2 = norm.ppf(1 - (alpha / 2))\n",
    "\n",
    "# Valor crítico da distribuição normal padrão para uma potência de 1 - beta\n",
    "Z_beta = norm.ppf(potencia)\n",
    "\n",
    "# Calculando o tamanho da amostra necessário\n",
    "n = ((Z_alpha_2 * np.sqrt(p1 * (1 - p1)) + Z_beta * np.sqrt(p1 * (1 - p1)) + Z_alpha_2 * np.sqrt(p2 * (1 - p2))) ** 2) / ((p2 - p1) ** 2)\n",
    "\n",
    "print(\"Tamanho da amostra necessário em cada grupo:\", int(np.ceil(n)))"
   ]
  },
  {
   "cell_type": "code",
   "execution_count": null,
   "id": "5bf8dbfb",
   "metadata": {},
   "outputs": [],
   "source": []
  },
  {
   "cell_type": "markdown",
   "id": "49ae713c",
   "metadata": {},
   "source": [
    "### Verifique a base pacientes.csv, os dados são fictícios. A sintetiza uma base de dados de um hospital que trata de pacientes com problemas cardíacos. Considere a base como a população, portanto as estatísticas da população são conhecidas. Responda as perguntas abaixo:"
   ]
  },
  {
   "cell_type": "markdown",
   "id": "d600f759",
   "metadata": {},
   "source": [
    "\n",
    "### 3.\tConsiderando uma amostra de 45 números que representam o index do dataframe, índices= ([909, 751, 402, 400, 726, 39, 184, 269, 255, 769, 209, 715, 677, 381, 793, 697,  89, 280, 232, 756, 358,  36, 439, 768, 967, 699, 473, 222,  89, 639, 883, 558, 757,  84, 907, 895, 217, 224, 311, 348, 146, 505, 273, 957, 362]). Considerando essa amostra é possível dizer que a idade média das pessoas com problemas cardíacos é maior que 50 anos? Nível de significância igual a 5%.\n"
   ]
  },
  {
   "cell_type": "code",
   "execution_count": 7,
   "id": "92d94c2a",
   "metadata": {
    "scrolled": false
   },
   "outputs": [
    {
     "data": {
      "text/html": [
       "<div>\n",
       "<style scoped>\n",
       "    .dataframe tbody tr th:only-of-type {\n",
       "        vertical-align: middle;\n",
       "    }\n",
       "\n",
       "    .dataframe tbody tr th {\n",
       "        vertical-align: top;\n",
       "    }\n",
       "\n",
       "    .dataframe thead th {\n",
       "        text-align: right;\n",
       "    }\n",
       "</style>\n",
       "<table border=\"1\" class=\"dataframe\">\n",
       "  <thead>\n",
       "    <tr style=\"text-align: right;\">\n",
       "      <th></th>\n",
       "      <th>Pressao_Arterial</th>\n",
       "      <th>Idade</th>\n",
       "      <th>Genero</th>\n",
       "      <th>Etnia</th>\n",
       "      <th>Estado_Saude</th>\n",
       "      <th>Nome_Genero</th>\n",
       "      <th>Nome_Etnia</th>\n",
       "      <th>Nome_Estado_Saude</th>\n",
       "    </tr>\n",
       "  </thead>\n",
       "  <tbody>\n",
       "    <tr>\n",
       "      <th>0</th>\n",
       "      <td>142.755809</td>\n",
       "      <td>31</td>\n",
       "      <td>1</td>\n",
       "      <td>1</td>\n",
       "      <td>1</td>\n",
       "      <td>Feminino</td>\n",
       "      <td>Afro-americano</td>\n",
       "      <td>Com condições de saúde adicionais</td>\n",
       "    </tr>\n",
       "    <tr>\n",
       "      <th>1</th>\n",
       "      <td>161.878468</td>\n",
       "      <td>35</td>\n",
       "      <td>1</td>\n",
       "      <td>1</td>\n",
       "      <td>0</td>\n",
       "      <td>Feminino</td>\n",
       "      <td>Afro-americano</td>\n",
       "      <td>Saudável</td>\n",
       "    </tr>\n",
       "    <tr>\n",
       "      <th>2</th>\n",
       "      <td>161.508259</td>\n",
       "      <td>39</td>\n",
       "      <td>0</td>\n",
       "      <td>3</td>\n",
       "      <td>1</td>\n",
       "      <td>Masculino</td>\n",
       "      <td>Asiático</td>\n",
       "      <td>Com condições de saúde adicionais</td>\n",
       "    </tr>\n",
       "    <tr>\n",
       "      <th>3</th>\n",
       "      <td>144.979408</td>\n",
       "      <td>43</td>\n",
       "      <td>1</td>\n",
       "      <td>3</td>\n",
       "      <td>1</td>\n",
       "      <td>Feminino</td>\n",
       "      <td>Asiático</td>\n",
       "      <td>Com condições de saúde adicionais</td>\n",
       "    </tr>\n",
       "    <tr>\n",
       "      <th>4</th>\n",
       "      <td>162.502954</td>\n",
       "      <td>55</td>\n",
       "      <td>0</td>\n",
       "      <td>2</td>\n",
       "      <td>1</td>\n",
       "      <td>Masculino</td>\n",
       "      <td>Hispânico</td>\n",
       "      <td>Com condições de saúde adicionais</td>\n",
       "    </tr>\n",
       "  </tbody>\n",
       "</table>\n",
       "</div>"
      ],
      "text/plain": [
       "   Pressao_Arterial  Idade  Genero  Etnia  Estado_Saude Nome_Genero  \\\n",
       "0        142.755809     31       1      1             1    Feminino   \n",
       "1        161.878468     35       1      1             0    Feminino   \n",
       "2        161.508259     39       0      3             1   Masculino   \n",
       "3        144.979408     43       1      3             1    Feminino   \n",
       "4        162.502954     55       0      2             1   Masculino   \n",
       "\n",
       "       Nome_Etnia                  Nome_Estado_Saude  \n",
       "0  Afro-americano  Com condições de saúde adicionais  \n",
       "1  Afro-americano                           Saudável  \n",
       "2        Asiático  Com condições de saúde adicionais  \n",
       "3        Asiático  Com condições de saúde adicionais  \n",
       "4       Hispânico  Com condições de saúde adicionais  "
      ]
     },
     "execution_count": 7,
     "metadata": {},
     "output_type": "execute_result"
    }
   ],
   "source": [
    "# Carregar o arquivo pacientes.csv\n",
    "df2 = pd.read_csv(\"pacientes.csv\")\n",
    "# Excluir a coluna 'Unnamed: 0'\n",
    "df2 = df2.drop(columns=['Unnamed: 0'])\n",
    "df2.head()"
   ]
  },
  {
   "cell_type": "code",
   "execution_count": 8,
   "id": "48ae8d61",
   "metadata": {},
   "outputs": [
    {
     "name": "stdout",
     "output_type": "stream",
     "text": [
      "Estatística do teste t: 0.052280983519350496\n",
      "Valor p: 0.4792707233816392\n",
      "Não rejeitamos a hipótese nula: A idade média das pessoas com problemas cardíacos é menor ou igual a 50 anos.\n"
     ]
    }
   ],
   "source": [
    "# Selecionar a amostra de índices fornecida\n",
    "indices = [909, 751, 402, 400, 726, 39, 184, 269, 255, 769, 209, 715, 677, 381,\n",
    "           793, 697, 89, 280, 232, 756, 358, 36, 439, 768, 967, 699, 473, 222, 89, \n",
    "           639, 883, 558, 757, 84, 907, 895, 217, 224, 311, 348, 146, 505, 273, 957, 362]\n",
    "\n",
    "# Filtrar o DataFrame original pela amostra de índices\n",
    "df_amostra = df2.loc[indices]\n",
    "\n",
    "# Filtrar pela coluna 'Idade'\n",
    "idades_amostra = df_amostra['Idade']\n",
    "\n",
    "# Realizar o teste de hipótese\n",
    "resultado_teste = stats.ttest_1samp(idades_amostra, 50, alternative='greater')\n",
    "\n",
    "# Exibir o resultado do teste\n",
    "print(\"Estatística do teste t:\", resultado_teste.statistic)\n",
    "print(\"Valor p:\", resultado_teste.pvalue)\n",
    "\n",
    "# Verificar se o valor p é menor que alpha (0.05)\n",
    "if resultado_teste.pvalue < 0.05:\n",
    "    print(\"Rejeitamos a hipótese nula: A idade média das pessoas com problemas cardíacos é maior que 50 anos.\")\n",
    "else:\n",
    "    print(\"Não rejeitamos a hipótese nula: A idade média das pessoas com problemas cardíacos é menor ou igual a 50 anos.\")"
   ]
  },
  {
   "cell_type": "code",
   "execution_count": null,
   "id": "70615d37",
   "metadata": {},
   "outputs": [],
   "source": []
  },
  {
   "cell_type": "markdown",
   "id": "72a664c6",
   "metadata": {},
   "source": [
    "### 4.\tQueremos entender que tipo de amostra estamos lidando se dividirmos os conjuntos em 2, sendo um com pessoas que têm condições de saúde adicionais e o outro com pessoas saudáveis. Seria dependente ou independente?"
   ]
  },
  {
   "cell_type": "code",
   "execution_count": 9,
   "id": "3f6f2ece",
   "metadata": {},
   "outputs": [
    {
     "name": "stdout",
     "output_type": "stream",
     "text": [
      "Valor da estatística t: 0.2052754936742535\n",
      "Valor p: 0.8373987501834486\n",
      "As amostras são independentes\n"
     ]
    }
   ],
   "source": [
    "# Dividir o DataFrame em dois conjuntos: um para pessoas com condições de saúde adicionais e outro para pessoas saudáveis\n",
    "grupo_condicoes = df2[df2['Estado_Saude'] == 1]['Idade']\n",
    "grupo_saudavel = df2[df2['Estado_Saude'] == 0]['Idade']\n",
    "\n",
    "# Realizar o teste t de Student para comparar as médias das idades entre os dois grupos\n",
    "resultado_teste = stats.ttest_ind(grupo_condicoes, grupo_saudavel)\n",
    "\n",
    "alpha = 0.05\n",
    "\n",
    "print(\"Valor da estatística t:\", resultado_teste.statistic)\n",
    "print(\"Valor p:\", resultado_teste.pvalue)\n",
    "\n",
    "if resultado_teste.pvalue <alpha:\n",
    "    print(\"As amostras são dependentes\")\n",
    "else:\n",
    "    print(\"As amostras são independentes\")\n"
   ]
  },
  {
   "cell_type": "code",
   "execution_count": null,
   "id": "8e37860b",
   "metadata": {},
   "outputs": [],
   "source": []
  },
  {
   "cell_type": "markdown",
   "id": "d04fae3b",
   "metadata": {},
   "source": [
    "### 5.\tAgora considere o um conjunto de pessoas aleatória que representam o index do dataframe,  índices = ([690, 894,  67, 201, 364,  19,  60, 319, 588, 643, 855, 623, 530, 174, 105, 693,   6, 462, 973, 607, 811, 346, 354, 966, 943, 372]), podemos dizer que a pressão arterial média para pacientes com condições de saúde adicionais é igual à pressão arterial média para pacientes sem condições adicionais de saúde? Considere o nível de significância a 6%."
   ]
  },
  {
   "cell_type": "code",
   "execution_count": 10,
   "id": "bc80e1be",
   "metadata": {},
   "outputs": [
    {
     "name": "stdout",
     "output_type": "stream",
     "text": [
      "Valor da estatística t: 0.08124024162329026\n",
      "Valor p: 0.9359246016248415\n",
      "Não há uma diferença significativa entre as médias dos grupos\n"
     ]
    }
   ],
   "source": [
    "# Índices dos pacientes selecionados aleatoriamente\n",
    "indices = [690, 894, 67, 201, 364, 19, 60, 319, 588, 643, 855, 623, 530, \n",
    "           174, 105, 693, 6, 462, 973, 607, 811, 346, 354, 966, 943, 372]\n",
    "\n",
    "# Dividir o DataFrame em dois conjuntos: um para pacientes com e sem condições de saúde adicionais\n",
    "com_condicoes = df2.loc[indices][df2['Estado_Saude'] == 1]['Pressao_Arterial']\n",
    "sem_condicoes = df2.loc[indices][df2['Estado_Saude'] == 0]['Pressao_Arterial']\n",
    "\n",
    "# Realizar o teste t de Student para amostras independentes\n",
    "resultado_teste = stats.ttest_ind(com_condicoes, sem_condicoes)\n",
    "\n",
    "nivel_significancia = 0.06\n",
    "\n",
    "print(\"Valor da estatística t:\", resultado_teste.statistic)\n",
    "print(\"Valor p:\", resultado_teste.pvalue)\n",
    "\n",
    "if resultado_teste.pvalue < nivel_significancia:\n",
    "    print(\"Há uma diferença significativa entre as médias dos grupos\")\n",
    "else:\n",
    "    print(\"Não há uma diferença significativa entre as médias dos grupos\")"
   ]
  },
  {
   "cell_type": "code",
   "execution_count": null,
   "id": "c4ab14dc",
   "metadata": {},
   "outputs": [],
   "source": []
  },
  {
   "cell_type": "markdown",
   "id": "4f658e41",
   "metadata": {},
   "source": [
    "### 6.\tExiste uma diferença significativa na pressão arterial média entre diferentes grupos étnicos nesta população? (Teste ANOVA, alpha é 5%) \n",
    "a.\tHipótese Nula (H0): A pressão arterial média é a mesma em todos os grupos étnicos."
   ]
  },
  {
   "cell_type": "markdown",
   "id": "2ecfa39c",
   "metadata": {},
   "source": [
    "b.\tHipótese Alternativa (H1): Há uma diferença significativa na pressão arterial média entre pelo menos dois grupos étnicos nesta população."
   ]
  },
  {
   "cell_type": "code",
   "execution_count": 11,
   "id": "42ee717d",
   "metadata": {},
   "outputs": [
    {
     "name": "stdout",
     "output_type": "stream",
     "text": [
      "Resultado do teste ANOVA:\n",
      "Estatística F: 0.23245296261596837\n",
      "Valor-p: 0.873800123850745\n",
      "Hipótese Alternativa (H1): Há uma diferença significativa na pressão arterial média entre pelo menos dois grupos étnicos nesta população.\n"
     ]
    }
   ],
   "source": [
    "# Função para filtrar por etnia e pressão arterial\n",
    "def filtro_por_etnia_e_pressao_arterial(df2, etnia):\n",
    "    return df2[df2['Etnia'] == etnia]['Pressao_Arterial']\n",
    "\n",
    "# Dados de pressão arterial por grupo étnico\n",
    "grupo_etnico_1 = filtro_por_etnia_e_pressao_arterial(df2, 0)\n",
    "grupo_etnico_2 = filtro_por_etnia_e_pressao_arterial(df2, 1)\n",
    "grupo_etnico_3 = filtro_por_etnia_e_pressao_arterial(df2, 2)\n",
    "grupo_etnico_4 = filtro_por_etnia_e_pressao_arterial(df2, 3)\n",
    "\n",
    "# Teste ANOVA\n",
    "f_statistic, p_value = f_oneway(grupo_etnico_1, grupo_etnico_2, grupo_etnico_3, grupo_etnico_4)\n",
    "print(\"Resultado do teste ANOVA:\")\n",
    "print(\"Estatística F:\", f_statistic)\n",
    "print(\"Valor-p:\", p_value)\n",
    "\n",
    "alpha = 0.05\n",
    "\n",
    "if resultado_teste.pvalue < alpha:\n",
    "    print(\"Hipótese Nula (H0): A pressão arterial média é a mesma em todos os grupos étnicos.\")\n",
    "else:\n",
    "    print(\"Hipótese Alternativa (H1): Há uma diferença significativa na pressão arterial média entre pelo menos dois grupos étnicos nesta população.\")"
   ]
  },
  {
   "cell_type": "code",
   "execution_count": null,
   "id": "ff4ed4fc",
   "metadata": {},
   "outputs": [],
   "source": []
  },
  {
   "cell_type": "markdown",
   "id": "9d4d852b",
   "metadata": {},
   "source": [
    "### 7.\tLúcia é uma pesquisadora e tem o objetivo de entender a relação de gênero neste grupo de pacientes. Acredita-se que há uma relação entre o sexo e condições de saúde adicionais. (Teste qui-quadrado)"
   ]
  },
  {
   "cell_type": "code",
   "execution_count": 13,
   "id": "76a5e352",
   "metadata": {},
   "outputs": [
    {
     "name": "stdout",
     "output_type": "stream",
     "text": [
      "Valor qui-quadrado: 0.0\n",
      "Valor p: 1.0\n",
      "Hipótese Alternativa (H1): não há uma relação entre o gênero e as condições de saúde adicionais.\n"
     ]
    }
   ],
   "source": [
    "# Filtrar os dados para incluir apenas as linhas onde 'Nome_Estado_Saude' é igual a 'Com condições de saúde adicionais'\n",
    "dados_filtrados = df2[df2['Nome_Estado_Saude'] == 'Com condições de saúde adicionais']\n",
    "\n",
    "# Criar uma tabela de contingência entre gênero e estado de saúde considerando apenas os dados filtrados\n",
    "tabela_contingencia = pd.crosstab(dados_filtrados['Nome_Estado_Saude'], dados_filtrados['Nome_Genero'])\n",
    "\n",
    "# Realizar o teste qui-quadrado\n",
    "chi2, p_valor, _, _ = chi2_contingency(tabela_contingencia)\n",
    "\n",
    "alpha = 0.05\n",
    "\n",
    "print(\"Valor qui-quadrado:\", chi2)\n",
    "print(\"Valor p:\", p_valor)\n",
    "\n",
    "if p_valor < alpha:\n",
    "    print(\"Hipótese Nula (H0): há uma relação entre o gênero e as condições de saúde adicionais.\")\n",
    "else:\n",
    "    print(\"Hipótese Alternativa (H1): não há uma relação entre o gênero e as condições de saúde adicionais.\")\n"
   ]
  },
  {
   "cell_type": "code",
   "execution_count": null,
   "id": "85ed15b8",
   "metadata": {},
   "outputs": [],
   "source": []
  },
  {
   "cell_type": "markdown",
   "id": "453ffcb9",
   "metadata": {},
   "source": [
    "### 8.\tExiste uma associação entre a idade dos pacientes e sua pressão arterial?\n",
    "\n",
    "a.\tHipótese Nula (H0): A idade dos pacientes é independente da pressão arterial.\n",
    "\n",
    "b.\tHipótese Alternativa (H1): A idade dos pacientes está associada à sua pressão arterial."
   ]
  },
  {
   "cell_type": "code",
   "execution_count": 12,
   "id": "94012493",
   "metadata": {},
   "outputs": [
    {
     "name": "stdout",
     "output_type": "stream",
     "text": [
      "Valor qui-quadrado: 40000.0\n",
      "Valor p: 0.4428280388433224\n",
      "Hipótese Alternativa (H1): A idade dos pacientes está associada à sua pressão arterial\n"
     ]
    }
   ],
   "source": [
    "# Criar uma tabela de contingência entre idade e pressão arterial\n",
    "tabela_contingencia = pd.crosstab(df2['Idade'], df2['Pressao_Arterial'])\n",
    "\n",
    "# Realizar o teste qui-quadrado de independência\n",
    "chi2, p_valor, _, _ = chi2_contingency(tabela_contingencia)\n",
    "\n",
    "# Definir o nível de significância\n",
    "alpha = 0.05\n",
    "\n",
    "print(\"Valor qui-quadrado:\", chi2)\n",
    "print(\"Valor p:\", p_valor)\n",
    "\n",
    "# Interpretar o valor-p\n",
    "if p_valor < alpha:\n",
    "    print(\"Hipótese Nula (H0): A idade dos pacientes é independente da pressão arterial\")\n",
    "else:\n",
    "    print(\"Hipótese Alternativa (H1): A idade dos pacientes está associada à sua pressão arterial\")"
   ]
  },
  {
   "cell_type": "code",
   "execution_count": null,
   "id": "c454d301",
   "metadata": {},
   "outputs": [],
   "source": []
  },
  {
   "cell_type": "code",
   "execution_count": null,
   "id": "3008f36f",
   "metadata": {},
   "outputs": [],
   "source": []
  },
  {
   "cell_type": "markdown",
   "id": "87198df5",
   "metadata": {},
   "source": [
    "### 9.\tQual é o intervalo de confiança para a média da pressão arterial entre os pacientes com condições de saúde adicionais? (nível de confiança 95%)"
   ]
  },
  {
   "cell_type": "code",
   "execution_count": 14,
   "id": "8774041e",
   "metadata": {},
   "outputs": [
    {
     "name": "stdout",
     "output_type": "stream",
     "text": [
      "Intervalo de confiança para a média da pressão arterial:\n",
      "Limite inferior: 149.22186145551754\n",
      "Limite superior: 151.01504243479755\n"
     ]
    }
   ],
   "source": [
    "# Separar os pacientes com condições de saúde adicionais\n",
    "pacientes_condicoes_adicionais = df2[df2['Estado_Saude'] == 1]\n",
    "\n",
    "# Calcular a média e o desvio padrão da pressão arterial\n",
    "media_pressao_condicoes = pacientes_condicoes_adicionais['Pressao_Arterial'].mean()\n",
    "desvio_padrao_pressao_condicoes = pacientes_condicoes_adicionais['Pressao_Arterial'].std()\n",
    "\n",
    "# Definir o nível de confiança\n",
    "confianca = 0.95\n",
    "\n",
    "# Calcular o intervalo de confiança usando a distribuição normal\n",
    "z = norm.ppf((1 + confianca) / 2)  # Obtém o valor z para o nível de confiança\n",
    "erro_padrao = desvio_padrao_pressao_condicoes / np.sqrt(len(pacientes_condicoes_adicionais))\n",
    "intervalo_confianca = z * erro_padrao\n",
    "\n",
    "# Calcular os limites do intervalo de confiança\n",
    "limite_inferior = media_pressao_condicoes - intervalo_confianca\n",
    "limite_superior = media_pressao_condicoes + intervalo_confianca\n",
    "\n",
    "print(\"Intervalo de confiança para a média da pressão arterial:\")\n",
    "print(\"Limite inferior:\", limite_inferior)\n",
    "print(\"Limite superior:\", limite_superior)"
   ]
  },
  {
   "cell_type": "code",
   "execution_count": null,
   "id": "8f4b7c22",
   "metadata": {},
   "outputs": [],
   "source": []
  },
  {
   "cell_type": "markdown",
   "id": "4db35f91",
   "metadata": {},
   "source": [
    "### 10.\tA distribuição da pressão arterial na população segue uma distribuição normal?\n",
    "\n",
    "a.\tHipótese Nula (H0): A distribuição da pressão arterial na população segue uma distribuição normal.\n",
    "    \n",
    "b.\tHipótese Alternativa (H1): A distribuição da pressão arterial na população não segue uma distribuição normal."
   ]
  },
  {
   "cell_type": "code",
   "execution_count": 15,
   "id": "aa0230e0",
   "metadata": {},
   "outputs": [
    {
     "name": "stdout",
     "output_type": "stream",
     "text": [
      "Valor da estatística KS: 1.0\n",
      "Valor p (KS): 0.0\n",
      "Rejeitamos a hipótese nula: a distribuição da pressão arterial não segue uma distribuição normal\n"
     ]
    },
    {
     "data": {
      "image/png": "[encoded data removed]",
      "text/plain": [
       "<Figure size 640x480 with 1 Axes>"
      ]
     },
     "metadata": {},
     "output_type": "display_data"
    }
   ],
   "source": [
    "# Dados de pressão arterial\n",
    "pressao_arterial = df2['Pressao_Arterial']\n",
    "\n",
    "# Realizar o teste KS\n",
    "stat_ks, p_valor_ks = kstest(pressao_arterial, 'norm')\n",
    "\n",
    "alpha = 0.05\n",
    "\n",
    "print(\"Valor da estatística KS:\", stat_ks)\n",
    "print(\"Valor p (KS):\", p_valor_ks)\n",
    "\n",
    "if p_valor_ks < alpha:\n",
    "    print(\"Rejeitamos a hipótese nula: a distribuição da pressão arterial não segue uma distribuição normal\")\n",
    "else:\n",
    "    print(\"Não rejeitamos a hipótese nula: a distribuição da pressão arterial segue uma distribuição normal\")\n",
    "\n",
    "# Plotar Q-Q plot\n",
    "probplot(pressao_arterial, dist=\"norm\", plot=plt)\n",
    "plt.title('Q-Q plot para Pressão Arterial')\n",
    "plt.xlabel('Quantis teóricos')\n",
    "plt.ylabel('Quantis observados')\n",
    "plt.show()"
   ]
  },
  {
   "cell_type": "code",
   "execution_count": null,
   "id": "0c408826",
   "metadata": {},
   "outputs": [],
   "source": []
  },
  {
   "cell_type": "code",
   "execution_count": null,
   "id": "a2f3f0cb",
   "metadata": {},
   "outputs": [],
   "source": []
  }
 ],
 "metadata": {
  "kernelspec": {
   "display_name": "Python 3 (ipykernel)",
   "language": "python",
   "name": "python3"
  },
  "language_info": {
   "codemirror_mode": {
    "name": "ipython",
    "version": 3
   },
   "file_extension": ".py",
   "mimetype": "text/x-python",
   "name": "python",
   "nbconvert_exporter": "python",
   "pygments_lexer": "ipython3",
   "version": "3.11.5"
  }
 },
 "nbformat": 4,
 "nbformat_minor": 5
}
