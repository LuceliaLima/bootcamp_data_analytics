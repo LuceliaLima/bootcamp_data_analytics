{
  "nbformat": 4,
  "nbformat_minor": 0,
  "metadata": {
    "colab": {
      "provenance": []
    },
    "kernelspec": {
      "name": "python3",
      "display_name": "Python 3"
    },
    "language_info": {
      "name": "python"
    }
  },
  "cells": [
    {
      "cell_type": "markdown",
      "source": [
        "#  <font color='red'> Estatística Frequências e Medidas</font>\n",
        "\n",
        "## **Desafio Final**\n",
        "\n",
        "\n",
        "\n",
        "<img src=\"https://womakerscode.org/wp-content/uploads/2023/07/cover-front.jpg\" height=\"200\" style=\"display: block; margin: auto;\">\n",
        "\n",
        "#### Lucelia Lima Souza"
      ],
      "metadata": {
        "id": "rHbptTKEeLWN"
      }
    },
    {
      "cell_type": "code",
      "execution_count": null,
      "metadata": {
        "id": "riV-tDZhVGEr"
      },
      "outputs": [],
      "source": [
        "import pandas as pd\n",
        "import numpy as np\n",
        "import seaborn as sns\n",
        "import matplotlib.pyplot as plt"
      ]
    },
    {
      "cell_type": "code",
      "source": [
        "# Ler o arquivo JSON\n",
        "enem_df = pd.read_json('/content/drive/MyDrive/Bootcamp Data Analytcs/enem_2023.json')\n",
        "enem_df"
      ],
      "metadata": {
        "colab": {
          "base_uri": "https://localhost:8080/",
          "height": 423
        },
        "id": "7-jlNOD2V4hv",
        "outputId": "186ec8da-066f-4717-9528-022a385623b1"
      },
      "execution_count": null,
      "outputs": [
        {
          "output_type": "execute_result",
          "data": {
            "text/plain": [
              "     Linguagens  Ciências humanas  Ciências da natureza  Matemática  \\\n",
              "0    585.669300        686.512178            390.482473  452.281333   \n",
              "1    359.384608        642.084134                   NaN  412.205207   \n",
              "2    622.732384        495.510719            443.183580  669.683401   \n",
              "3    350.164605        602.041588            413.979810  676.608952   \n",
              "4    384.093657        489.249140            609.758123  520.426698   \n",
              "..          ...               ...                   ...         ...   \n",
              "995  455.479216        557.756326            511.347833  510.358766   \n",
              "996  457.755594        444.616952            542.028624  419.689692   \n",
              "997  551.173161        568.769704            508.034658         NaN   \n",
              "998  495.804002        522.125008            414.167228  451.696456   \n",
              "999  435.332469        425.941701                   NaN  466.003345   \n",
              "\n",
              "        Redação    Sexo  \n",
              "0    546.371706   Homem  \n",
              "1    741.825256  Mulher  \n",
              "2    684.515750   Homem  \n",
              "3    671.237114   Homem  \n",
              "4    744.375048   Homem  \n",
              "..          ...     ...  \n",
              "995         NaN   Homem  \n",
              "996  715.984249  Mulher  \n",
              "997  798.408655   Homem  \n",
              "998  593.392939   Homem  \n",
              "999  559.382918   Homem  \n",
              "\n",
              "[1000 rows x 6 columns]"
            ],
            "text/html": [
              "\n",
              "  <div id=\"df-9aa7a45a-01d6-4b26-b31e-5989abf19710\" class=\"colab-df-container\">\n",
              "    <div>\n",
              "<style scoped>\n",
              "    .dataframe tbody tr th:only-of-type {\n",
              "        vertical-align: middle;\n",
              "    }\n",
              "\n",
              "    .dataframe tbody tr th {\n",
              "        vertical-align: top;\n",
              "    }\n",
              "\n",
              "    .dataframe thead th {\n",
              "        text-align: right;\n",
              "    }\n",
              "</style>\n",
              "<table border=\"1\" class=\"dataframe\">\n",
              "  <thead>\n",
              "    <tr style=\"text-align: right;\">\n",
              "      <th></th>\n",
              "      <th>Linguagens</th>\n",
              "      <th>Ciências humanas</th>\n",
              "      <th>Ciências da natureza</th>\n",
              "      <th>Matemática</th>\n",
              "      <th>Redação</th>\n",
              "      <th>Sexo</th>\n",
              "    </tr>\n",
              "  </thead>\n",
              "  <tbody>\n",
              "    <tr>\n",
              "      <th>0</th>\n",
              "      <td>585.669300</td>\n",
              "      <td>686.512178</td>\n",
              "      <td>390.482473</td>\n",
              "      <td>452.281333</td>\n",
              "      <td>546.371706</td>\n",
              "      <td>Homem</td>\n",
              "    </tr>\n",
              "    <tr>\n",
              "      <th>1</th>\n",
              "      <td>359.384608</td>\n",
              "      <td>642.084134</td>\n",
              "      <td>NaN</td>\n",
              "      <td>412.205207</td>\n",
              "      <td>741.825256</td>\n",
              "      <td>Mulher</td>\n",
              "    </tr>\n",
              "    <tr>\n",
              "      <th>2</th>\n",
              "      <td>622.732384</td>\n",
              "      <td>495.510719</td>\n",
              "      <td>443.183580</td>\n",
              "      <td>669.683401</td>\n",
              "      <td>684.515750</td>\n",
              "      <td>Homem</td>\n",
              "    </tr>\n",
              "    <tr>\n",
              "      <th>3</th>\n",
              "      <td>350.164605</td>\n",
              "      <td>602.041588</td>\n",
              "      <td>413.979810</td>\n",
              "      <td>676.608952</td>\n",
              "      <td>671.237114</td>\n",
              "      <td>Homem</td>\n",
              "    </tr>\n",
              "    <tr>\n",
              "      <th>4</th>\n",
              "      <td>384.093657</td>\n",
              "      <td>489.249140</td>\n",
              "      <td>609.758123</td>\n",
              "      <td>520.426698</td>\n",
              "      <td>744.375048</td>\n",
              "      <td>Homem</td>\n",
              "    </tr>\n",
              "    <tr>\n",
              "      <th>...</th>\n",
              "      <td>...</td>\n",
              "      <td>...</td>\n",
              "      <td>...</td>\n",
              "      <td>...</td>\n",
              "      <td>...</td>\n",
              "      <td>...</td>\n",
              "    </tr>\n",
              "    <tr>\n",
              "      <th>995</th>\n",
              "      <td>455.479216</td>\n",
              "      <td>557.756326</td>\n",
              "      <td>511.347833</td>\n",
              "      <td>510.358766</td>\n",
              "      <td>NaN</td>\n",
              "      <td>Homem</td>\n",
              "    </tr>\n",
              "    <tr>\n",
              "      <th>996</th>\n",
              "      <td>457.755594</td>\n",
              "      <td>444.616952</td>\n",
              "      <td>542.028624</td>\n",
              "      <td>419.689692</td>\n",
              "      <td>715.984249</td>\n",
              "      <td>Mulher</td>\n",
              "    </tr>\n",
              "    <tr>\n",
              "      <th>997</th>\n",
              "      <td>551.173161</td>\n",
              "      <td>568.769704</td>\n",
              "      <td>508.034658</td>\n",
              "      <td>NaN</td>\n",
              "      <td>798.408655</td>\n",
              "      <td>Homem</td>\n",
              "    </tr>\n",
              "    <tr>\n",
              "      <th>998</th>\n",
              "      <td>495.804002</td>\n",
              "      <td>522.125008</td>\n",
              "      <td>414.167228</td>\n",
              "      <td>451.696456</td>\n",
              "      <td>593.392939</td>\n",
              "      <td>Homem</td>\n",
              "    </tr>\n",
              "    <tr>\n",
              "      <th>999</th>\n",
              "      <td>435.332469</td>\n",
              "      <td>425.941701</td>\n",
              "      <td>NaN</td>\n",
              "      <td>466.003345</td>\n",
              "      <td>559.382918</td>\n",
              "      <td>Homem</td>\n",
              "    </tr>\n",
              "  </tbody>\n",
              "</table>\n",
              "<p>1000 rows × 6 columns</p>\n",
              "</div>\n",
              "    <div class=\"colab-df-buttons\">\n",
              "\n",
              "  <div class=\"colab-df-container\">\n",
              "    <button class=\"colab-df-convert\" onclick=\"convertToInteractive('df-9aa7a45a-01d6-4b26-b31e-5989abf19710')\"\n",
              "            title=\"Convert this dataframe to an interactive table.\"\n",
              "            style=\"display:none;\">\n",
              "\n",
              "  <svg xmlns=\"http://www.w3.org/2000/svg\" height=\"24px\" viewBox=\"0 -960 960 960\">\n",
              "    <path d=\"M120-120v-720h720v720H120Zm60-500h600v-160H180v160Zm220 220h160v-160H400v160Zm0 220h160v-160H400v160ZM180-400h160v-160H180v160Zm440 0h160v-160H620v160ZM180-180h160v-160H180v160Zm440 0h160v-160H620v160Z\"/>\n",
              "  </svg>\n",
              "    </button>\n",
              "\n",
              "  <style>\n",
              "    .colab-df-container {\n",
              "      display:flex;\n",
              "      gap: 12px;\n",
              "    }\n",
              "\n",
              "    .colab-df-convert {\n",
              "      background-color: #E8F0FE;\n",
              "      border: none;\n",
              "      border-radius: 50%;\n",
              "      cursor: pointer;\n",
              "      display: none;\n",
              "      fill: #1967D2;\n",
              "      height: 32px;\n",
              "      padding: 0 0 0 0;\n",
              "      width: 32px;\n",
              "    }\n",
              "\n",
              "    .colab-df-convert:hover {\n",
              "      background-color: #E2EBFA;\n",
              "      box-shadow: 0px 1px 2px rgba(60, 64, 67, 0.3), 0px 1px 3px 1px rgba(60, 64, 67, 0.15);\n",
              "      fill: #174EA6;\n",
              "    }\n",
              "\n",
              "    .colab-df-buttons div {\n",
              "      margin-bottom: 4px;\n",
              "    }\n",
              "\n",
              "    [theme=dark] .colab-df-convert {\n",
              "      background-color: #3B4455;\n",
              "      fill: #D2E3FC;\n",
              "    }\n",
              "\n",
              "    [theme=dark] .colab-df-convert:hover {\n",
              "      background-color: #434B5C;\n",
              "      box-shadow: 0px 1px 3px 1px rgba(0, 0, 0, 0.15);\n",
              "      filter: drop-shadow(0px 1px 2px rgba(0, 0, 0, 0.3));\n",
              "      fill: #FFFFFF;\n",
              "    }\n",
              "  </style>\n",
              "\n",
              "    <script>\n",
              "      const buttonEl =\n",
              "        document.querySelector('#df-9aa7a45a-01d6-4b26-b31e-5989abf19710 button.colab-df-convert');\n",
              "      buttonEl.style.display =\n",
              "        google.colab.kernel.accessAllowed ? 'block' : 'none';\n",
              "\n",
              "      async function convertToInteractive(key) {\n",
              "        const element = document.querySelector('#df-9aa7a45a-01d6-4b26-b31e-5989abf19710');\n",
              "        const dataTable =\n",
              "          await google.colab.kernel.invokeFunction('convertToInteractive',\n",
              "                                                    [key], {});\n",
              "        if (!dataTable) return;\n",
              "\n",
              "        const docLinkHtml = 'Like what you see? Visit the ' +\n",
              "          '<a target=\"_blank\" href=https://colab.research.google.com/notebooks/data_table.ipynb>data table notebook</a>'\n",
              "          + ' to learn more about interactive tables.';\n",
              "        element.innerHTML = '';\n",
              "        dataTable['output_type'] = 'display_data';\n",
              "        await google.colab.output.renderOutput(dataTable, element);\n",
              "        const docLink = document.createElement('div');\n",
              "        docLink.innerHTML = docLinkHtml;\n",
              "        element.appendChild(docLink);\n",
              "      }\n",
              "    </script>\n",
              "  </div>\n",
              "\n",
              "\n",
              "<div id=\"df-9d0bf653-1e1e-4664-aabc-aaefb600b04a\">\n",
              "  <button class=\"colab-df-quickchart\" onclick=\"quickchart('df-9d0bf653-1e1e-4664-aabc-aaefb600b04a')\"\n",
              "            title=\"Suggest charts\"\n",
              "            style=\"display:none;\">\n",
              "\n",
              "<svg xmlns=\"http://www.w3.org/2000/svg\" height=\"24px\"viewBox=\"0 0 24 24\"\n",
              "     width=\"24px\">\n",
              "    <g>\n",
              "        <path d=\"M19 3H5c-1.1 0-2 .9-2 2v14c0 1.1.9 2 2 2h14c1.1 0 2-.9 2-2V5c0-1.1-.9-2-2-2zM9 17H7v-7h2v7zm4 0h-2V7h2v10zm4 0h-2v-4h2v4z\"/>\n",
              "    </g>\n",
              "</svg>\n",
              "  </button>\n",
              "\n",
              "<style>\n",
              "  .colab-df-quickchart {\n",
              "      --bg-color: #E8F0FE;\n",
              "      --fill-color: #1967D2;\n",
              "      --hover-bg-color: #E2EBFA;\n",
              "      --hover-fill-color: #174EA6;\n",
              "      --disabled-fill-color: #AAA;\n",
              "      --disabled-bg-color: #DDD;\n",
              "  }\n",
              "\n",
              "  [theme=dark] .colab-df-quickchart {\n",
              "      --bg-color: #3B4455;\n",
              "      --fill-color: #D2E3FC;\n",
              "      --hover-bg-color: #434B5C;\n",
              "      --hover-fill-color: #FFFFFF;\n",
              "      --disabled-bg-color: #3B4455;\n",
              "      --disabled-fill-color: #666;\n",
              "  }\n",
              "\n",
              "  .colab-df-quickchart {\n",
              "    background-color: var(--bg-color);\n",
              "    border: none;\n",
              "    border-radius: 50%;\n",
              "    cursor: pointer;\n",
              "    display: none;\n",
              "    fill: var(--fill-color);\n",
              "    height: 32px;\n",
              "    padding: 0;\n",
              "    width: 32px;\n",
              "  }\n",
              "\n",
              "  .colab-df-quickchart:hover {\n",
              "    background-color: var(--hover-bg-color);\n",
              "    box-shadow: 0 1px 2px rgba(60, 64, 67, 0.3), 0 1px 3px 1px rgba(60, 64, 67, 0.15);\n",
              "    fill: var(--button-hover-fill-color);\n",
              "  }\n",
              "\n",
              "  .colab-df-quickchart-complete:disabled,\n",
              "  .colab-df-quickchart-complete:disabled:hover {\n",
              "    background-color: var(--disabled-bg-color);\n",
              "    fill: var(--disabled-fill-color);\n",
              "    box-shadow: none;\n",
              "  }\n",
              "\n",
              "  .colab-df-spinner {\n",
              "    border: 2px solid var(--fill-color);\n",
              "    border-color: transparent;\n",
              "    border-bottom-color: var(--fill-color);\n",
              "    animation:\n",
              "      spin 1s steps(1) infinite;\n",
              "  }\n",
              "\n",
              "  @keyframes spin {\n",
              "    0% {\n",
              "      border-color: transparent;\n",
              "      border-bottom-color: var(--fill-color);\n",
              "      border-left-color: var(--fill-color);\n",
              "    }\n",
              "    20% {\n",
              "      border-color: transparent;\n",
              "      border-left-color: var(--fill-color);\n",
              "      border-top-color: var(--fill-color);\n",
              "    }\n",
              "    30% {\n",
              "      border-color: transparent;\n",
              "      border-left-color: var(--fill-color);\n",
              "      border-top-color: var(--fill-color);\n",
              "      border-right-color: var(--fill-color);\n",
              "    }\n",
              "    40% {\n",
              "      border-color: transparent;\n",
              "      border-right-color: var(--fill-color);\n",
              "      border-top-color: var(--fill-color);\n",
              "    }\n",
              "    60% {\n",
              "      border-color: transparent;\n",
              "      border-right-color: var(--fill-color);\n",
              "    }\n",
              "    80% {\n",
              "      border-color: transparent;\n",
              "      border-right-color: var(--fill-color);\n",
              "      border-bottom-color: var(--fill-color);\n",
              "    }\n",
              "    90% {\n",
              "      border-color: transparent;\n",
              "      border-bottom-color: var(--fill-color);\n",
              "    }\n",
              "  }\n",
              "</style>\n",
              "\n",
              "  <script>\n",
              "    async function quickchart(key) {\n",
              "      const quickchartButtonEl =\n",
              "        document.querySelector('#' + key + ' button');\n",
              "      quickchartButtonEl.disabled = true;  // To prevent multiple clicks.\n",
              "      quickchartButtonEl.classList.add('colab-df-spinner');\n",
              "      try {\n",
              "        const charts = await google.colab.kernel.invokeFunction(\n",
              "            'suggestCharts', [key], {});\n",
              "      } catch (error) {\n",
              "        console.error('Error during call to suggestCharts:', error);\n",
              "      }\n",
              "      quickchartButtonEl.classList.remove('colab-df-spinner');\n",
              "      quickchartButtonEl.classList.add('colab-df-quickchart-complete');\n",
              "    }\n",
              "    (() => {\n",
              "      let quickchartButtonEl =\n",
              "        document.querySelector('#df-9d0bf653-1e1e-4664-aabc-aaefb600b04a button');\n",
              "      quickchartButtonEl.style.display =\n",
              "        google.colab.kernel.accessAllowed ? 'block' : 'none';\n",
              "    })();\n",
              "  </script>\n",
              "</div>\n",
              "\n",
              "  <div id=\"id_4a62e2b7-24b8-4c16-9166-5d28a53de86c\">\n",
              "    <style>\n",
              "      .colab-df-generate {\n",
              "        background-color: #E8F0FE;\n",
              "        border: none;\n",
              "        border-radius: 50%;\n",
              "        cursor: pointer;\n",
              "        display: none;\n",
              "        fill: #1967D2;\n",
              "        height: 32px;\n",
              "        padding: 0 0 0 0;\n",
              "        width: 32px;\n",
              "      }\n",
              "\n",
              "      .colab-df-generate:hover {\n",
              "        background-color: #E2EBFA;\n",
              "        box-shadow: 0px 1px 2px rgba(60, 64, 67, 0.3), 0px 1px 3px 1px rgba(60, 64, 67, 0.15);\n",
              "        fill: #174EA6;\n",
              "      }\n",
              "\n",
              "      [theme=dark] .colab-df-generate {\n",
              "        background-color: #3B4455;\n",
              "        fill: #D2E3FC;\n",
              "      }\n",
              "\n",
              "      [theme=dark] .colab-df-generate:hover {\n",
              "        background-color: #434B5C;\n",
              "        box-shadow: 0px 1px 3px 1px rgba(0, 0, 0, 0.15);\n",
              "        filter: drop-shadow(0px 1px 2px rgba(0, 0, 0, 0.3));\n",
              "        fill: #FFFFFF;\n",
              "      }\n",
              "    </style>\n",
              "    <button class=\"colab-df-generate\" onclick=\"generateWithVariable('enem_df')\"\n",
              "            title=\"Generate code using this dataframe.\"\n",
              "            style=\"display:none;\">\n",
              "\n",
              "  <svg xmlns=\"http://www.w3.org/2000/svg\" height=\"24px\"viewBox=\"0 0 24 24\"\n",
              "       width=\"24px\">\n",
              "    <path d=\"M7,19H8.4L18.45,9,17,7.55,7,17.6ZM5,21V16.75L18.45,3.32a2,2,0,0,1,2.83,0l1.4,1.43a1.91,1.91,0,0,1,.58,1.4,1.91,1.91,0,0,1-.58,1.4L9.25,21ZM18.45,9,17,7.55Zm-12,3A5.31,5.31,0,0,0,4.9,8.1,5.31,5.31,0,0,0,1,6.5,5.31,5.31,0,0,0,4.9,4.9,5.31,5.31,0,0,0,6.5,1,5.31,5.31,0,0,0,8.1,4.9,5.31,5.31,0,0,0,12,6.5,5.46,5.46,0,0,0,6.5,12Z\"/>\n",
              "  </svg>\n",
              "    </button>\n",
              "    <script>\n",
              "      (() => {\n",
              "      const buttonEl =\n",
              "        document.querySelector('#id_4a62e2b7-24b8-4c16-9166-5d28a53de86c button.colab-df-generate');\n",
              "      buttonEl.style.display =\n",
              "        google.colab.kernel.accessAllowed ? 'block' : 'none';\n",
              "\n",
              "      buttonEl.onclick = () => {\n",
              "        google.colab.notebook.generateWithVariable('enem_df');\n",
              "      }\n",
              "      })();\n",
              "    </script>\n",
              "  </div>\n",
              "\n",
              "    </div>\n",
              "  </div>\n"
            ],
            "application/vnd.google.colaboratory.intrinsic+json": {
              "type": "dataframe",
              "variable_name": "enem_df",
              "summary": "{\n  \"name\": \"enem_df\",\n  \"rows\": 1000,\n  \"fields\": [\n    {\n      \"column\": \"Linguagens\",\n      \"properties\": {\n        \"dtype\": \"number\",\n        \"std\": 84.00931315971195,\n        \"min\": 287.0,\n        \"max\": 804.4563171927,\n        \"num_unique_values\": 896,\n        \"samples\": [\n          638.5729576994,\n          458.5772735297,\n          469.6368972844\n        ],\n        \"semantic_type\": \"\",\n        \"description\": \"\"\n      }\n    },\n    {\n      \"column\": \"Ci\\u00eancias humanas\",\n      \"properties\": {\n        \"dtype\": \"number\",\n        \"std\": 77.81151916399475,\n        \"min\": 289.9,\n        \"max\": 763.9196954613,\n        \"num_unique_values\": 935,\n        \"samples\": [\n          552.953806862,\n          648.4281845758,\n          519.0714634707\n        ],\n        \"semantic_type\": \"\",\n        \"description\": \"\"\n      }\n    },\n    {\n      \"column\": \"Ci\\u00eancias da natureza\",\n      \"properties\": {\n        \"dtype\": \"number\",\n        \"std\": 78.76040369093829,\n        \"min\": 314.4,\n        \"max\": 802.0045683513,\n        \"num_unique_values\": 821,\n        \"samples\": [\n          472.110329659,\n          468.0927320977,\n          391.1238460543\n        ],\n        \"semantic_type\": \"\",\n        \"description\": \"\"\n      }\n    },\n    {\n      \"column\": \"Matem\\u00e1tica\",\n      \"properties\": {\n        \"dtype\": \"number\",\n        \"std\": 86.64810003261275,\n        \"min\": 319.8,\n        \"max\": 807.8779018921,\n        \"num_unique_values\": 918,\n        \"samples\": [\n          577.6921115123,\n          562.8560894807,\n          464.1971411718\n        ],\n        \"semantic_type\": \"\",\n        \"description\": \"\"\n      }\n    },\n    {\n      \"column\": \"Reda\\u00e7\\u00e3o\",\n      \"properties\": {\n        \"dtype\": \"number\",\n        \"std\": 115.33997244479161,\n        \"min\": 270.8399648605,\n        \"max\": 1000.0,\n        \"num_unique_values\": 860,\n        \"samples\": [\n          482.1791420587,\n          687.1614107203,\n          572.6498716449\n        ],\n        \"semantic_type\": \"\",\n        \"description\": \"\"\n      }\n    },\n    {\n      \"column\": \"Sexo\",\n      \"properties\": {\n        \"dtype\": \"category\",\n        \"num_unique_values\": 3,\n        \"samples\": [\n          \"Homem\",\n          \"Mulher\",\n          \"N\\u00e3o idenficado\"\n        ],\n        \"semantic_type\": \"\",\n        \"description\": \"\"\n      }\n    }\n  ]\n}"
            }
          },
          "metadata": {},
          "execution_count": 2
        }
      ]
    },
    {
      "cell_type": "code",
      "source": [
        "enem_df.shape"
      ],
      "metadata": {
        "colab": {
          "base_uri": "https://localhost:8080/"
        },
        "id": "gdCHiUY6WMgU",
        "outputId": "69aa08e9-2d79-4e95-b91d-21b20eb4d61e"
      },
      "execution_count": null,
      "outputs": [
        {
          "output_type": "execute_result",
          "data": {
            "text/plain": [
              "(1000, 6)"
            ]
          },
          "metadata": {},
          "execution_count": 3
        }
      ]
    },
    {
      "cell_type": "code",
      "source": [
        "enem_df.info()"
      ],
      "metadata": {
        "colab": {
          "base_uri": "https://localhost:8080/"
        },
        "id": "4yhomB7UV4k4",
        "outputId": "e76cb308-6aef-4b97-ae02-70d07324e361"
      },
      "execution_count": null,
      "outputs": [
        {
          "output_type": "stream",
          "name": "stdout",
          "text": [
            "<class 'pandas.core.frame.DataFrame'>\n",
            "Int64Index: 1000 entries, 0 to 999\n",
            "Data columns (total 6 columns):\n",
            " #   Column                Non-Null Count  Dtype  \n",
            "---  ------                --------------  -----  \n",
            " 0   Linguagens            897 non-null    float64\n",
            " 1   Ciências humanas      936 non-null    float64\n",
            " 2   Ciências da natureza  824 non-null    float64\n",
            " 3   Matemática            924 non-null    float64\n",
            " 4   Redação               860 non-null    float64\n",
            " 5   Sexo                  1000 non-null   object \n",
            "dtypes: float64(5), object(1)\n",
            "memory usage: 54.7+ KB\n"
          ]
        }
      ]
    },
    {
      "cell_type": "code",
      "source": [
        "enem_df.isnull().sum()"
      ],
      "metadata": {
        "colab": {
          "base_uri": "https://localhost:8080/"
        },
        "id": "7LvVi7bQXcfd",
        "outputId": "1e0dc5d8-c88e-484f-f9ea-2e17313169b0"
      },
      "execution_count": null,
      "outputs": [
        {
          "output_type": "execute_result",
          "data": {
            "text/plain": [
              "Linguagens              103\n",
              "Ciências humanas         64\n",
              "Ciências da natureza    176\n",
              "Matemática               76\n",
              "Redação                 140\n",
              "Sexo                      0\n",
              "dtype: int64"
            ]
          },
          "metadata": {},
          "execution_count": 5
        }
      ]
    },
    {
      "cell_type": "code",
      "source": [
        "# Preencher os valores nulos com a mediana de cada coluna\n",
        "enem_df_clean = enem_df.fillna(enem_df.median())\n",
        "print(enem_df_clean.isnull().sum())"
      ],
      "metadata": {
        "colab": {
          "base_uri": "https://localhost:8080/"
        },
        "id": "13DWRj_jQrdK",
        "outputId": "989c4e9c-1688-4460-ca5f-863ddc8801d6"
      },
      "execution_count": null,
      "outputs": [
        {
          "output_type": "stream",
          "name": "stdout",
          "text": [
            "Linguagens              0\n",
            "Ciências humanas        0\n",
            "Ciências da natureza    0\n",
            "Matemática              0\n",
            "Redação                 0\n",
            "Sexo                    0\n",
            "dtype: int64\n"
          ]
        },
        {
          "output_type": "stream",
          "name": "stderr",
          "text": [
            "<ipython-input-6-db67fcc54c49>:2: FutureWarning: The default value of numeric_only in DataFrame.median is deprecated. In a future version, it will default to False. In addition, specifying 'numeric_only=None' is deprecated. Select only valid columns or specify the value of numeric_only to silence this warning.\n",
            "  enem_df_clean = enem_df.fillna(enem_df.median())\n"
          ]
        }
      ]
    },
    {
      "cell_type": "markdown",
      "source": [
        "1. Qual das disciplinas tem a maior amplitude de nota?"
      ],
      "metadata": {
        "id": "VHkR6L5OgpfV"
      }
    },
    {
      "cell_type": "code",
      "source": [
        "# Selecionar apenas as colunas relevantes com as notas das disciplinas\n",
        "disciplinas_df = enem_df_clean[['Linguagens', 'Ciências humanas', 'Ciências da natureza', 'Matemática', 'Redação']]"
      ],
      "metadata": {
        "id": "rzRqm6sHWuVB"
      },
      "execution_count": null,
      "outputs": []
    },
    {
      "cell_type": "code",
      "source": [
        "# Calcular a amplitude de nota para cada disciplina\n",
        "amplitude_por_disciplina = disciplinas_df.max() - disciplinas_df.min()\n",
        "# Encontrar a disciplina com a maior amplitude de nota\n",
        "disciplina_maior_amplitude = amplitude_por_disciplina.idxmax()\n",
        "maior_amplitude = amplitude_por_disciplina.max()\n",
        "print(f\"A disciplina com a maior amplitude de nota é {disciplina_maior_amplitude} com amplitude de {maior_amplitude:.2f}\")"
      ],
      "metadata": {
        "colab": {
          "base_uri": "https://localhost:8080/"
        },
        "id": "zglA3BAnV4ni",
        "outputId": "ced50692-0b7b-4c1c-8369-7a79f92624b9"
      },
      "execution_count": null,
      "outputs": [
        {
          "output_type": "stream",
          "name": "stdout",
          "text": [
            "A disciplina com a maior amplitude de nota é Redação com amplitude de 729.16\n"
          ]
        }
      ]
    },
    {
      "cell_type": "markdown",
      "source": [
        "2. Qual é a média e a mediana para cada uma das disciplinas? (Lembre-se de remover todos os valores nulos quando considerar a mediana)"
      ],
      "metadata": {
        "id": "6BxVUE5CgebZ"
      }
    },
    {
      "cell_type": "code",
      "source": [
        "# Calcular a média e a mediana de cada disciplina\n",
        "estatisticas_por_disciplina = disciplinas_df.agg(['mean', 'median']).round(2)\n",
        "print(\"Média e mediana por disciplina:\")\n",
        "print(estatisticas_por_disciplina)"
      ],
      "metadata": {
        "colab": {
          "base_uri": "https://localhost:8080/"
        },
        "id": "LT-R68m6ZZS7",
        "outputId": "aaa9608b-e6c3-4fa9-aae8-e4b6fdc9b9e8"
      },
      "execution_count": null,
      "outputs": [
        {
          "output_type": "stream",
          "name": "stdout",
          "text": [
            "Média e mediana por disciplina:\n",
            "        Linguagens  Ciências humanas  Ciências da natureza  Matemática  \\\n",
            "mean        514.58            526.88                499.52      535.76   \n",
            "median      515.05            524.52                500.48      533.25   \n",
            "\n",
            "        Redação  \n",
            "mean     637.43  \n",
            "median   635.27  \n"
          ]
        }
      ]
    },
    {
      "cell_type": "markdown",
      "source": [
        "3. Considerando o curso de Ciência da Computação da UFPE, onde o peso cada uma das disciplinas ponderado:\n",
        "-  Redação - 2\n",
        "- Matemática e suas Tecnologias - 4\n",
        "- Linguagens, Códigos e suas Tecnologias - 2\n",
        "- Ciências Humanas e suas Tecnologias - 1\n",
        "- Ciências da Natureza e suas Tecnologias - 1\n",
        "- Qual o desvio padrão e média das notas dos 500 estudantes mais bem colocados considerando esses pesos?"
      ],
      "metadata": {
        "id": "vr_OJYb3fk1U"
      }
    },
    {
      "cell_type": "code",
      "source": [
        "# Ponderação das disciplinas\n",
        "pesos = {'Redação': 2, 'Matemática': 4, 'Linguagens': 2, 'Ciências humanas': 1, 'Ciências da natureza': 1}\n",
        "\n",
        "# Calcula a média ponderada para cada estudante\n",
        "enem_df_clean['Media_Ponderada'] = (enem_df_clean['Redação'] * pesos['Redação'] +\n",
        "                              enem_df_clean['Matemática'] * pesos['Matemática'] +\n",
        "                              enem_df_clean['Linguagens'] * pesos['Linguagens'] +\n",
        "                              enem_df_clean['Ciências humanas'] * pesos['Ciências humanas'] +\n",
        "                              enem_df_clean['Ciências da natureza'] * pesos['Ciências da natureza']) / sum(pesos.values())\n",
        "\n",
        "# Seleciona os 500 estudantes mais bem colocados\n",
        "top_500 = enem_df_clean.nlargest(500, 'Media_Ponderada')\n",
        "\n",
        "# Calcula a média e o desvio padrão das notas dos 500 estudantes mais bem colocados\n",
        "media = top_500['Media_Ponderada'].mean()\n",
        "desvio_padrao = top_500['Media_Ponderada'].std()\n",
        "\n",
        "print(f\"Média das notas dos 500 estudantes mais bem colocados: {media:.2f}\")\n",
        "print(f\"Desvio padrão das notas dos 500 estudantes mais bem colocados: {desvio_padrao:.2f}\")"
      ],
      "metadata": {
        "colab": {
          "base_uri": "https://localhost:8080/"
        },
        "id": "C3SWYgXsbIvf",
        "outputId": "0f3dbfb3-78a0-4b83-e14a-33d6feac4f0b"
      },
      "execution_count": null,
      "outputs": [
        {
          "output_type": "stream",
          "name": "stdout",
          "text": [
            "Média das notas dos 500 estudantes mais bem colocados: 582.01\n",
            "Desvio padrão das notas dos 500 estudantes mais bem colocados: 26.39\n"
          ]
        }
      ]
    },
    {
      "cell_type": "markdown",
      "source": [
        "4. Se todos esses estudantes aplicassem para ciência da computação e\n",
        "existem apenas 40 vagas, qual seria a variância e média da nota dos\n",
        "estudantes que entraram no curso de ciência da computação?"
      ],
      "metadata": {
        "id": "LqgfarwMfYqt"
      }
    },
    {
      "cell_type": "code",
      "source": [
        "# Selecionar apenas as colunas numéricas relevantes para o cálculo da pontuação total\n",
        "colunas_numericas = ['Redação', 'Matemática', 'Linguagens', 'Ciências humanas', 'Ciências da natureza']\n",
        "enem_df_pontuacao = enem_df_clean[colunas_numericas]\n",
        "\n",
        "# Calcular a pontuação total para cada estudante\n",
        "enem_df_clean['Pontuação Total'] = enem_df_pontuacao.sum(axis=1)\n",
        "\n",
        "# Selecionar os 40 melhores colocados\n",
        "melhores_colocados = enem_df_clean.nlargest(40, 'Pontuação Total')\n",
        "\n",
        "# Calcular a média e a variância das notas dos 40 melhores colocados\n",
        "media = melhores_colocados['Pontuação Total'].mean().round(2)\n",
        "variancia = melhores_colocados['Pontuação Total'].var().round(2)\n",
        "\n",
        "print(\"Média das notas dos 40 melhores colocados:\", media)\n",
        "print(\"Variância das notas dos 40 melhores colocados:\", variancia);"
      ],
      "metadata": {
        "colab": {
          "base_uri": "https://localhost:8080/"
        },
        "id": "x3ljicDvd-GJ",
        "outputId": "6002e63d-685a-47da-b92b-c13d38e31bb6"
      },
      "execution_count": null,
      "outputs": [
        {
          "output_type": "stream",
          "name": "stdout",
          "text": [
            "Média das notas dos 40 melhores colocados: 3133.49\n",
            "Variância das notas dos 40 melhores colocados: 4077.65\n"
          ]
        }
      ]
    },
    {
      "cell_type": "markdown",
      "source": [
        "5. Qual o valor do teto do terceiro quartil para as disciplinas de\n",
        "matemática e linguagens?"
      ],
      "metadata": {
        "id": "h1ihLilVlp8F"
      }
    },
    {
      "cell_type": "code",
      "source": [
        "# Calcular o terceiro quartil para as disciplinas de Matemática e Linguagens\n",
        "q3_matematica, q3_linguagens = disciplinas_df[['Matemática', 'Linguagens']].quantile(0.75).round(2)\n",
        "print(\"Terceiro quartil para a disciplina de Matemática:\", q3_matematica)\n",
        "print(\"Terceiro quartil para a disciplina de Linguagens:\", q3_linguagens)"
      ],
      "metadata": {
        "colab": {
          "base_uri": "https://localhost:8080/"
        },
        "id": "dXWSadjjlokm",
        "outputId": "659cdf15-4b2e-454b-825d-60c2778aa622"
      },
      "execution_count": null,
      "outputs": [
        {
          "output_type": "stream",
          "name": "stdout",
          "text": [
            "Terceiro quartil para a disciplina de Matemática: 586.93\n",
            "Terceiro quartil para a disciplina de Linguagens: 564.79\n"
          ]
        }
      ]
    },
    {
      "cell_type": "markdown",
      "source": [
        "6. Faça o histograma de Redação e Linguagens, de 20 em 20 pontos. Podemos dizer que são histogramas simétricos, justifique e classifiquese não assimétricas?"
      ],
      "metadata": {
        "id": "R8ciQlC0mVo3"
      }
    },
    {
      "cell_type": "code",
      "source": [
        "def verificar_simetria(enem_df_clean, disciplina, tolerancia=0.1):\n",
        "    # Calcular a média e a mediana para a disciplina\n",
        "    media = enem_df_clean[disciplina].mean()\n",
        "    mediana = enem_df_clean[disciplina].median()\n",
        "\n",
        "    # Calcular a diferença entre a média e a mediana\n",
        "    diferenca = abs(media - mediana)\n",
        "\n",
        "    # Classificar a simetria\n",
        "    if diferenca < tolerancia:\n",
        "        print(f\"O histograma de {disciplina} é simétrico.\")\n",
        "    else:\n",
        "        print(f\"O histograma de {disciplina} não é simétrico. A diferença entre a média e a mediana é maior que a tolerância.\")\n",
        "\n",
        "    # Plotar o histograma\n",
        "    plt.figure(figsize=(8, 6))\n",
        "    plt.hist(enem_df_clean[disciplina], bins=20, color='skyblue', edgecolor='black')\n",
        "    plt.title(f'Histograma de {disciplina}')\n",
        "    plt.xlabel('Nota')\n",
        "    plt.ylabel('Frequência')\n",
        "    plt.grid(True)\n",
        "    plt.show()\n",
        "\n",
        "# Verificar simetria para a disciplina de Redação\n",
        "verificar_simetria(enem_df_clean, 'Redação')\n",
        "\n",
        "# Verificar simetria para a disciplina de Linguagens\n",
        "verificar_simetria(enem_df_clean, 'Linguagens')\n"
      ],
      "metadata": {
        "colab": {
          "base_uri": "https://localhost:8080/",
          "height": 1000
        },
        "id": "FBdY-YLEBURJ",
        "outputId": "83fc276b-67a5-49b8-e0ac-17f6c0962242"
      },
      "execution_count": null,
      "outputs": [
        {
          "output_type": "stream",
          "name": "stdout",
          "text": [
            "O histograma de Redação não é simétrico. A diferença entre a média e a mediana é maior que a tolerância.\n"
          ]
        },
        {
          "output_type": "display_data",
          "data": {
            "text/plain": [
              "<Figure size 800x600 with 1 Axes>"
            ],
            "image/png": "[encoded data removed]"
          },
          "metadata": {}
        },
        {
          "output_type": "stream",
          "name": "stdout",
          "text": [
            "O histograma de Linguagens não é simétrico. A diferença entre a média e a mediana é maior que a tolerância.\n"
          ]
        },
        {
          "output_type": "display_data",
          "data": {
            "text/plain": [
              "<Figure size 800x600 with 1 Axes>"
            ],
            "image/png": "[encoded data removed]"
          },
          "metadata": {}
        }
      ]
    },
    {
      "cell_type": "markdown",
      "source": [
        "7. Agora coloque um range fixo de 0 até 1000, você ainda tem a mesma opinião quanto a simetria? [plt.hist(dado, bins=_, range=[0, 1000])"
      ],
      "metadata": {
        "id": "AtBF2qqNuu2_"
      }
    },
    {
      "cell_type": "code",
      "source": [
        "def verificar_simetria(enem_df_clean, disciplina, tolerancia=0.1):\n",
        "    # Calcular a média e a mediana para a disciplina\n",
        "    media = enem_df_clean[disciplina].mean()\n",
        "    mediana = enem_df_clean[disciplina].median()\n",
        "\n",
        "    # Classificar a simetria\n",
        "    if abs(media - mediana) < tolerancia:\n",
        "        print(f\"O histograma de {disciplina} é simétrico.\")\n",
        "    else:\n",
        "        print(f\"O histograma de {disciplina} não é simétrico.\")\n",
        "\n",
        "    # Plotar o histograma\n",
        "    plt.figure(figsize=(8, 6))\n",
        "    plt.hist(enem_df_clean[disciplina], bins=20, range=[0, 1000], color='skyblue', edgecolor='black')\n",
        "    plt.title(f'Histograma de {disciplina}')\n",
        "    plt.xlabel('Nota')\n",
        "    plt.ylabel('Frequência')\n",
        "    plt.grid(True)\n",
        "    plt.show()\n",
        "\n",
        "# Verificar simetria para a disciplina de Redação\n",
        "verificar_simetria(enem_df_clean, 'Redação')\n",
        "\n",
        "# Verificar simetria para a disciplina de Linguagens\n",
        "verificar_simetria(enem_df_clean, 'Linguagens')"
      ],
      "metadata": {
        "colab": {
          "base_uri": "https://localhost:8080/",
          "height": 1000
        },
        "id": "orFhrg6QloqN",
        "outputId": "af464b9b-31ea-4190-e4bd-aa528bf32cdf"
      },
      "execution_count": null,
      "outputs": [
        {
          "output_type": "stream",
          "name": "stdout",
          "text": [
            "O histograma de Redação não é simétrico.\n"
          ]
        },
        {
          "output_type": "display_data",
          "data": {
            "text/plain": [
              "<Figure size 800x600 with 1 Axes>"
            ],
            "image/png": "[encoded data removed]"
          },
          "metadata": {}
        },
        {
          "output_type": "stream",
          "name": "stdout",
          "text": [
            "O histograma de Linguagens não é simétrico.\n"
          ]
        },
        {
          "output_type": "display_data",
          "data": {
            "text/plain": [
              "<Figure size 800x600 with 1 Axes>"
            ],
            "image/png": "[encoded data removed]"
          },
          "metadata": {}
        }
      ]
    },
    {
      "cell_type": "markdown",
      "source": [
        "8. Faça um boxplot do quartil de todas as disciplinas de ciências da natureza e redação. É possível enxergar outliers? Utilize o método IQR."
      ],
      "metadata": {
        "id": "Qn4IKfezwmyp"
      }
    },
    {
      "cell_type": "code",
      "source": [
        "# Selecionar as colunas relevantes (Ciências da Natureza e Redação)\n",
        "colunas_selecionadas = ['Ciências da natureza', 'Redação']\n",
        "df_selecionado = enem_df[colunas_selecionadas]\n",
        "\n",
        "# Calcular os quartis usando o método IQR\n",
        "Q1 = df_selecionado.quantile(0.25)\n",
        "Q3 = df_selecionado.quantile(0.75)\n",
        "IQR = Q3 - Q1\n",
        "limite_inferior = Q1 - 1.5 * IQR\n",
        "limite_superior = Q3 + 1.5 * IQR\n",
        "\n",
        "# Criar o boxplot\n",
        "plt.figure(figsize=(10, 6))\n",
        "df_selecionado.boxplot()\n",
        "plt.title('Boxplot dos Quartis de Ciências da Natureza e Redação')\n",
        "plt.ylabel('Notas')\n",
        "plt.xlabel('Disciplinas')\n",
        "plt.grid(False)\n",
        "\n",
        "# Identificar e destacar os outliers\n",
        "outliers = (df_selecionado < limite_inferior) | (df_selecionado > limite_superior)\n",
        "outliers_values = df_selecionado[outliers].dropna()\n",
        "plt.plot(outliers_values.index + 1, outliers_values.values, 'ro', markersize=5, label='Outliers')\n",
        "plt.legend()\n",
        "\n",
        "# Exibir o boxplot\n",
        "plt.show()\n"
      ],
      "metadata": {
        "colab": {
          "base_uri": "https://localhost:8080/",
          "height": 565
        },
        "id": "rwOFSWbWcxAI",
        "outputId": "81e4ae64-fc73-43d9-ac43-46c3d70f980f"
      },
      "execution_count": null,
      "outputs": [
        {
          "output_type": "display_data",
          "data": {
            "text/plain": [
              "<Figure size 1000x600 with 1 Axes>"
            ],
            "image/png": "[encoded data removed]"
          },
          "metadata": {}
        }
      ]
    },
    {
      "cell_type": "markdown",
      "source": [
        "9. Remova todos os outliers e verifique se eles são passíveis de alterar a média nacional significativamente? (considere significativamente um valor acima de 5%)"
      ],
      "metadata": {
        "id": "PWzonX_f4ivs"
      }
    },
    {
      "cell_type": "code",
      "source": [
        "def remover_outliers_e_verificar(enem_df, colunas):\n",
        "    # Excluir a coluna 'Sexo' das colunas para cálculo da média\n",
        "    colunas_sem_sexo = [coluna for coluna in colunas if coluna != 'Sexo']\n",
        "\n",
        "    # Calcular a média nacional antes da remoção de outliers\n",
        "    media_nacional_antes = enem_df[colunas_sem_sexo].mean().round(2)\n",
        "\n",
        "    # Identificar e remover outliers\n",
        "    for coluna in colunas_sem_sexo:\n",
        "        Q1 = enem_df[coluna].quantile(0.25)\n",
        "        Q3 = enem_df[coluna].quantile(0.75)\n",
        "        IQR = Q3 - Q1\n",
        "        limite_inferior = Q1 - 1.5 * IQR\n",
        "        limite_superior = Q3 + 1.5 * IQR\n",
        "        enem_df = enem_df.loc[(enem_df[coluna] >= limite_inferior) & (enem_df[coluna] <= limite_superior)]\n",
        "\n",
        "    # Calcular a média nacional depois da remoção de outliers\n",
        "    media_nacional_depois = enem_df[colunas_sem_sexo].mean().round(2)\n",
        "\n",
        "    # Verificar se houve uma alteração significativa na média nacional\n",
        "    alteracao_percentual = ((media_nacional_depois - media_nacional_antes) / media_nacional_antes) * 100\n",
        "\n",
        "    if abs(alteracao_percentual).any() > 5:\n",
        "        print(\"A remoção dos outliers alterou a média nacional em mais de 5%.\")\n",
        "    else:\n",
        "        print(\"A remoção dos outliers não alterou significativamente a média nacional.\")\n",
        "\n",
        "    # Verificar a média antes e depois\n",
        "    print(\"Média nacional antes da remoção de outliers:\", media_nacional_antes)\n",
        "    print(\"Média nacional depois da remoção de outliers:\", media_nacional_depois)\n",
        "\n",
        "\n",
        "# Selecionar as colunas relevantes\n",
        "colunas = ['Linguagens', 'Ciências humanas', 'Ciências da natureza', 'Matemática', 'Redação']\n",
        "\n",
        "# Remover os outliers e verificar o impacto na média nacional\n",
        "remover_outliers_e_verificar(enem_df, colunas)"
      ],
      "metadata": {
        "colab": {
          "base_uri": "https://localhost:8080/"
        },
        "id": "B7r4_NmEXhPN",
        "outputId": "a27b085a-293a-41db-97c8-f31a7c66a644"
      },
      "execution_count": null,
      "outputs": [
        {
          "output_type": "stream",
          "name": "stdout",
          "text": [
            "A remoção dos outliers não alterou significativamente a média nacional.\n",
            "Média nacional antes da remoção de outliers: Linguagens              514.52\n",
            "Ciências humanas        527.04\n",
            "Ciências da natureza    499.32\n",
            "Matemática              535.97\n",
            "Redação                 637.78\n",
            "dtype: float64\n",
            "Média nacional depois da remoção de outliers: Linguagens              517.18\n",
            "Ciências humanas        527.19\n",
            "Ciências da natureza    501.36\n",
            "Matemática              535.32\n",
            "Redação                 640.68\n",
            "dtype: float64\n"
          ]
        }
      ]
    },
    {
      "cell_type": "markdown",
      "source": [
        "10. Considerando valores nulos, tente encontrar qual seria a melhor medida de tendência que pode substituir as notas nulas. Média, moda ou mediana? Substitua o valor por todos os três e diga qual delas altera menos a média geral e o desvio padrão."
      ],
      "metadata": {
        "id": "mzbNb8134oHK"
      }
    },
    {
      "cell_type": "code",
      "source": [
        "colunas = ['Linguagens', 'Ciências humanas', 'Ciências da natureza', 'Matemática', 'Redação']\n",
        "\n",
        "# Calcular a média, moda e mediana para cada coluna\n",
        "medidas_tendencia = {}\n",
        "for coluna in colunas:\n",
        "    media = enem_df[coluna].mean()\n",
        "    moda = enem_df[coluna].mode().iloc[0]\n",
        "    mediana = enem_df[coluna].median()\n",
        "    medidas_tendencia[coluna] = {'Média': media, 'Moda': moda, 'Mediana': mediana}\n",
        "\n",
        "# Substituir os valores nulos pelas três medidas de tendência central\n",
        "for coluna in colunas:\n",
        "    for medida in ['Média', 'Moda', 'Mediana']:\n",
        "        df_temp = enem_df[coluna].fillna(medidas_tendencia[coluna][medida])\n",
        "        enem_df[f\"{coluna}_{medida}\"] = df_temp\n",
        "\n",
        "# Calcular a média geral e o desvio padrão para cada substituição\n",
        "resultados = {}\n",
        "for medida in ['Média', 'Moda', 'Mediana']:\n",
        "    df_temp = enem_df[[f\"{coluna}_{medida}\" for coluna in colunas]]\n",
        "    media_geral = df_temp.mean().mean()\n",
        "    desvio_padrao = df_temp.stack().std()\n",
        "    resultados[medida] = {'Média Geral': media_geral, 'Desvio Padrão': desvio_padrao}\n",
        "\n",
        "# Encontrar a medida que altera menos a média geral e o desvio padrão\n",
        "melhor_medida = min(resultados, key=lambda x: resultados[x]['Desvio Padrão'])\n",
        "\n",
        "# Imprimir os resultados\n",
        "print(\"Resultados:\")\n",
        "for medida, valores in resultados.items():\n",
        "    print(f\"{medida}: Média Geral = {valores['Média Geral']:.2f}, Desvio Padrão = {valores['Desvio Padrão']:.2f}\")\n",
        "\n",
        "print(\"\\nMelhor medida:\")\n",
        "print(melhor_medida)"
      ],
      "metadata": {
        "colab": {
          "base_uri": "https://localhost:8080/"
        },
        "id": "nEyDwNmDbrH8",
        "outputId": "0cb8e70b-ab2b-42d0-f9c7-5fbe5444b830"
      },
      "execution_count": null,
      "outputs": [
        {
          "output_type": "stream",
          "name": "stdout",
          "text": [
            "Resultados:\n",
            "Média: Média Geral = 542.93, Desvio Padrão = 97.43\n",
            "Moda: Média Geral = 515.13, Desvio Padrão = 123.36\n",
            "Mediana: Média Geral = 542.83, Desvio Padrão = 97.35\n",
            "\n",
            "Melhor medida:\n",
            "Mediana\n"
          ]
        }
      ]
    }
  ]
}